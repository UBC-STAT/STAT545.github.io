{
 "cells": [
  {
   "cell_type": "markdown",
   "metadata": {
    "deletable": false,
    "editable": false,
    "nbgrader": {
     "cell_type": "markdown",
     "checksum": "0804fdc0b481bafd2cb5669f1cd558a9",
     "grade": false,
     "grade_id": "cell-8b26929bab50eea3",
     "locked": true,
     "schema_version": 3,
     "solution": false,
     "task": false
    }
   },
   "source": [
    "# Worksheet 01A: Intro to R, R Markdown, and Reproducibility\n",
    "**Version 3.0 (2025)**\n",
    "\n",
    "\n",
    "## Welcome to STAT545!\n",
    "\n",
    "We hope that you are excited to become an R pro during the next few weeks! These in-class worksheets have been designed to help you navigate this R journey. We'll start easy, with some examples of R commands, and evolve to the more complex - and arguably cooler - syntax and structures of the R language.\n",
    "\n",
    "## An important note\n",
    "\n",
    "**Submission of this worksheet is optional**. Future worksheets **must** be submitted for participation marks. \n",
    "\n",
    "Lectures will mostly involve going through these worksheets and giving you the answers (yes, before the deadline). We suggest going through the worksheets before coming to class so that you can find out where you get stuck.\n",
    "\n",
    "## Attributions\n",
    "\n",
    "This document was primarily put together by Icíar Fernández Boyano. \n",
    "\n",
    "The following resources were used as inspiration in the creation of this worksheet:\n",
    "\n",
    "+ [Swirl R Programming Tutorial](https://swirlstats.com/scn/rprog.html)\n",
    "+ [A (very) short introduction to R](https://github.com/ClaudiaBrauer/A-very-short-introduction-to-R/blob/master/documents/A%20(very)%20short%20introduction%20to%20R.pdf)\n",
    "+ [Happy Git and GitHub for the useR](https://happygitwithr.com/)\n",
    "+ [2019 STAT545 Guidebook](https://stat545guidebook.netlify.app/index.html)\n",
    "+ [Jenny Bryan's STAT545 Guidebook](https://stat545.com/)\n",
    "\n",
    "## Getting Started\n",
    "\n",
    "Load the required add-on packages for this assignment by running the following code chunk (or _cell_). In Jupyter, you can load the chunk by clicking on the chunk, and clicking the \"Run\" button (keyboard shortcut: Command + Enter on a Mac, or Control + Enter on Windows). _If this fails, read on..._"
   ]
  },
  {
   "cell_type": "code",
   "execution_count": null,
   "metadata": {
    "deletable": false,
    "editable": false,
    "nbgrader": {
     "cell_type": "code",
     "checksum": "43dec9a2860b4cdf83996cdef5f4a598",
     "grade": false,
     "grade_id": "cell-e7cc0f456605c076",
     "locked": true,
     "schema_version": 3,
     "solution": false,
     "task": false
    }
   },
   "outputs": [],
   "source": [
    "library(testthat)\n",
    "library(digest)"
   ]
  },
  {
   "cell_type": "markdown",
   "metadata": {
    "deletable": false,
    "editable": false,
    "nbgrader": {
     "cell_type": "markdown",
     "checksum": "bc6b6bda51fae612c517c7590a081e09",
     "grade": false,
     "grade_id": "cell-e4d5c23517e65a5a",
     "locked": true,
     "schema_version": 3,
     "solution": false,
     "task": false
    }
   },
   "source": [
    "Did that fail for you? It could be that you don't have those packages installed. The following code chunk has been unlocked for you (did you notice that you weren't able to edit the above cells?), so you can use it to install these packages, or to generally just give you the flexibility to start this worksheet with some of your own code. To install the \"testthat\" package, execute the command `install.packages(\"testthat\")`; what would you need to type to install the \"digest\" package?\n",
    "\n",
    "**Please be sure to remove any `install.packages` commands after you've run them**: once you've successfully _installed_ a package with `install.packages`, the package is permanently installed on your computer. \n",
    "\n",
    "To _load_ the packages for use in this R session, try executing the above code chunk again."
   ]
  },
  {
   "cell_type": "code",
   "execution_count": null,
   "metadata": {},
   "outputs": [],
   "source": [
    "# An unlocked code chunk."
   ]
  },
  {
   "cell_type": "markdown",
   "metadata": {
    "deletable": false,
    "editable": false,
    "nbgrader": {
     "cell_type": "markdown",
     "checksum": "c6862b96499e7cfc0e08da99ac308294",
     "grade": false,
     "grade_id": "cell-0da508f15814e7c2",
     "locked": true,
     "schema_version": 3,
     "solution": false,
     "task": false
    }
   },
   "source": [
    "In Episode 01A of the [STAT 545 video series](https://www.youtube.com/channel/UCrB-uourf2vxGeBnGjQrA0w), RStudio was mentioned as being an IDE for R. You're probably viewing this worksheet in another IDE called **jupyter**. We're using jupyter for the STAT 545 worksheets because it works well with an autograder called nbgrader."
   ]
  },
  {
   "cell_type": "markdown",
   "metadata": {
    "deletable": false,
    "editable": false,
    "nbgrader": {
     "cell_type": "markdown",
     "checksum": "a84d6663b284189b9a3285b31de3b8d6",
     "grade": false,
     "grade_id": "cell-d11d3973ab3460a1",
     "locked": true,
     "schema_version": 3,
     "solution": false,
     "task": false
    }
   },
   "source": [
    "## Getting Familiar with R\n",
    "\n",
    "### 1.1 Calculator\n",
    "\n",
    "In its simplest form, R can be used as a interactive calculator. "
   ]
  },
  {
   "cell_type": "code",
   "execution_count": null,
   "metadata": {
    "deletable": false,
    "editable": false,
    "name": "example-1-0",
    "nbgrader": {
     "cell_type": "code",
     "checksum": "a6df81a2ec8dd103cff119525f6c0828",
     "grade": false,
     "grade_id": "cell-02e613b3a71a2045",
     "locked": true,
     "schema_version": 3,
     "solution": false,
     "task": false
    }
   },
   "outputs": [],
   "source": [
    "10 + 4 # you can add \n",
    "10 - 4 # subtract\n",
    "4 / 2 # divide\n",
    "2 * 5 # multiply\n",
    "3 ^ 4 # and exponentiate"
   ]
  },
  {
   "cell_type": "markdown",
   "metadata": {
    "deletable": false,
    "editable": false,
    "nbgrader": {
     "cell_type": "markdown",
     "checksum": "8f65ed71eb65e8476c1c86a7edf9ba19",
     "grade": false,
     "grade_id": "cell-ab5c3cec51c4ac26",
     "locked": true,
     "schema_version": 3,
     "solution": false,
     "task": false
    }
   },
   "source": [
    "Now, what if you need to compute a longer expression? Let's say that I want to find out the percentage of students in the STAT department that are taking STAT545A (note: these numbers are fictional!). I could compute this in several steps, or use a more complex expression. \n",
    "\n",
    "**Using multiple steps...**\n",
    "\n",
    "+ To calculate the number of students in the STAT department, I add 375 new students that have enrolled this year, to the 2000 that were already enrolled."
   ]
  },
  {
   "cell_type": "code",
   "execution_count": null,
   "metadata": {
    "deletable": false,
    "editable": false,
    "name": "example-1-1a",
    "nbgrader": {
     "cell_type": "code",
     "checksum": "4e62cb1aa7b5e1468f91ae788d34c43e",
     "grade": false,
     "grade_id": "cell-3a342455e968efc2",
     "locked": true,
     "schema_version": 3,
     "solution": false,
     "task": false
    }
   },
   "outputs": [],
   "source": [
    "2000 + 375"
   ]
  },
  {
   "cell_type": "markdown",
   "metadata": {
    "deletable": false,
    "editable": false,
    "nbgrader": {
     "cell_type": "markdown",
     "checksum": "318b5cc9a2456c5cacee5f2042f07aef",
     "grade": false,
     "grade_id": "cell-ccd48654544fd353",
     "locked": true,
     "schema_version": 3,
     "solution": false,
     "task": false
    }
   },
   "source": [
    "+ There are 82 students taking STAT545A this year. Last year, there was the same number of students, but 3 dropped the course after the first two weeks. Let's hypothesise that only 1 will drop the course this year - although I hope the real number is 0 :)"
   ]
  },
  {
   "cell_type": "code",
   "execution_count": null,
   "metadata": {
    "deletable": false,
    "editable": false,
    "name": "example-1-1b",
    "nbgrader": {
     "cell_type": "code",
     "checksum": "217b36a3a92825c3b6feff9a773327f4",
     "grade": false,
     "grade_id": "cell-23dd9f564b57ea4f",
     "locked": true,
     "schema_version": 3,
     "solution": false,
     "task": false
    }
   },
   "outputs": [],
   "source": [
    "82 - 1"
   ]
  },
  {
   "cell_type": "markdown",
   "metadata": {
    "deletable": false,
    "editable": false,
    "nbgrader": {
     "cell_type": "markdown",
     "checksum": "4a7783b86bb0e7e4a06af6162fefacd5",
     "grade": false,
     "grade_id": "cell-345a371ec8621190",
     "locked": true,
     "schema_version": 3,
     "solution": false,
     "task": false
    }
   },
   "source": [
    "+ With the number of students taking STAT545 this year (hypothetically), and the number of students currently in the STAT department, I can now calculate what percentage of students in the STAT department are taking this class."
   ]
  },
  {
   "cell_type": "code",
   "execution_count": null,
   "metadata": {
    "deletable": false,
    "editable": false,
    "name": "example-1-1c",
    "nbgrader": {
     "cell_type": "code",
     "checksum": "2c2bb6307a8e7bf0822babbe852ee262",
     "grade": false,
     "grade_id": "cell-f85728ee7af8d6bf",
     "locked": true,
     "schema_version": 3,
     "solution": false,
     "task": false
    }
   },
   "outputs": [],
   "source": [
    "81 / 2375"
   ]
  },
  {
   "cell_type": "code",
   "execution_count": null,
   "metadata": {
    "deletable": false,
    "editable": false,
    "name": "example 1-1d",
    "nbgrader": {
     "cell_type": "code",
     "checksum": "c07d8c3b7a99385d0211ab57bf5f2eb4",
     "grade": false,
     "grade_id": "cell-a9bfe516af8ca200",
     "locked": true,
     "schema_version": 3,
     "solution": false,
     "task": false
    }
   },
   "outputs": [],
   "source": [
    "0.03410526 * 100"
   ]
  },
  {
   "cell_type": "markdown",
   "metadata": {
    "deletable": false,
    "editable": false,
    "nbgrader": {
     "cell_type": "markdown",
     "checksum": "14624e8e62ed12a28570ac6d3dfcc332",
     "grade": false,
     "grade_id": "cell-42ec2ad158bd9526",
     "locked": true,
     "schema_version": 3,
     "solution": false,
     "task": false
    }
   },
   "source": [
    "**What if we use a single expression?**\n",
    "\n",
    "It seems that around 3% of students in the STAT department are taking STAT545A... but that took *a lot* of steps to calculate. We could also write it like this to save some time:"
   ]
  },
  {
   "cell_type": "code",
   "execution_count": null,
   "metadata": {
    "deletable": false,
    "editable": false,
    "name": "example-1-2",
    "nbgrader": {
     "cell_type": "code",
     "checksum": "9a5ca33ff6c024c125db479d689dd13b",
     "grade": false,
     "grade_id": "cell-1998144f9345aaf9",
     "locked": true,
     "schema_version": 3,
     "solution": false,
     "task": false
    }
   },
   "outputs": [],
   "source": [
    "(82 - 1) / (2000 + 375) * 100 "
   ]
  },
  {
   "cell_type": "markdown",
   "metadata": {
    "deletable": false,
    "editable": false,
    "nbgrader": {
     "cell_type": "markdown",
     "checksum": "3ccf613806c3d65dd667e64ae95c9285",
     "grade": false,
     "grade_id": "cell-8aa79a95beade98c",
     "locked": true,
     "schema_version": 3,
     "solution": false,
     "task": false
    }
   },
   "source": [
    "As you can see, *taking care of precedence rules* (i.e. using brackets appropriately), we can save some time by writing a single expression.\n",
    "\n",
    "Your turn! Can you calculate the percentage of your life that you have spent in university? \n",
    "\n",
    "Compute the difference between 2020 and the year that you started university, and divide this by the difference between 2020 and the year that you were born. Multiply this with 100 to get the percentage of your life that you have spent in university. Your *challenge* here is to use a single expression."
   ]
  },
  {
   "cell_type": "code",
   "execution_count": null,
   "metadata": {
    "name": "activity-1-2"
   },
   "outputs": [],
   "source": [
    "# your code here"
   ]
  },
  {
   "cell_type": "markdown",
   "metadata": {
    "deletable": false,
    "editable": false,
    "nbgrader": {
     "cell_type": "markdown",
     "checksum": "6fdc362b96a9022c45547c9e097ed76d",
     "grade": false,
     "grade_id": "cell-1d3d407b175d3580",
     "locked": true,
     "schema_version": 3,
     "solution": false,
     "task": false
    }
   },
   "source": [
    "### 1.2 Variables\n",
    " \n",
    "Alright, R as a calculator works just fine... but you don't learn a programming language *only* to compute arithmetic expressions. What if you want to use your result from above in a second calculation? Instead of retyping your expression every time that you need it, or copying and pasting the result, you can simply create a new variable that stores it. \n",
    "\n",
    "Earlier, I figured out that I had spent 18% of my life at university. I want to assign this value to a variable called `life_university`, which will help me remember what my value means. The way you assign a value to a variable in R is by using the assignment operator, which is just a \"less than\" symbol, followed by a minus sign. It looks like this:"
   ]
  },
  {
   "cell_type": "code",
   "execution_count": null,
   "metadata": {
    "deletable": false,
    "editable": false,
    "name": "example-1-3a",
    "nbgrader": {
     "cell_type": "code",
     "checksum": "cecaccf0ba21c0ebd2fdf6260ea4f557",
     "grade": false,
     "grade_id": "cell-0f70f29b98cfc79a",
     "locked": true,
     "schema_version": 3,
     "solution": false,
     "task": false
    }
   },
   "outputs": [],
   "source": [
    "life_university <- 18"
   ]
  },
  {
   "cell_type": "markdown",
   "metadata": {
    "deletable": false,
    "editable": false,
    "nbgrader": {
     "cell_type": "markdown",
     "checksum": "25bbae92ee7dd0c8c8b2e94a66d3f7f4",
     "grade": false,
     "grade_id": "cell-b8bde8ad059c03e2",
     "locked": true,
     "schema_version": 3,
     "solution": false,
     "task": false
    }
   },
   "source": [
    "Now, the variable `life_university`, stores the value 18, which is the percentage of time that I had spent at university. But prior to saving this into a variable, I had to calculate the value separately. What if I directly assigned the arithmetic expression that I used to compute my value to the variable?"
   ]
  },
  {
   "cell_type": "code",
   "execution_count": null,
   "metadata": {
    "deletable": false,
    "editable": false,
    "name": "example-1-3b",
    "nbgrader": {
     "cell_type": "code",
     "checksum": "49bf4bd71637e8cbd4bfaf8fc3fdc1e6",
     "grade": false,
     "grade_id": "cell-e943d9cf804fdf52",
     "locked": true,
     "schema_version": 3,
     "solution": false,
     "task": false
    }
   },
   "outputs": [],
   "source": [
    "life_university <- (2020 - 2016) / (2020 - 1998) * 100"
   ]
  },
  {
   "cell_type": "markdown",
   "metadata": {
    "deletable": false,
    "editable": false,
    "nbgrader": {
     "cell_type": "markdown",
     "checksum": "7ba5807d0285c77592adcb2784b04d2c",
     "grade": false,
     "grade_id": "cell-9eeb2f90831c3118",
     "locked": true,
     "schema_version": 3,
     "solution": false,
     "task": false
    }
   },
   "source": [
    "Notice that R did not print the result of my expression this time. When you use the assignment operator, R assumes that you don't want to see the result immediately, but rather that you intend to use it for something else later on. \n",
    "\n",
    "To view the contents of the variable, you simply have to type the name of the variable - in this case, `life_university` and press Enter. Try it below!"
   ]
  },
  {
   "cell_type": "code",
   "execution_count": null,
   "metadata": {
    "name": "activity-1-3"
   },
   "outputs": [],
   "source": [
    "# your code here"
   ]
  },
  {
   "cell_type": "markdown",
   "metadata": {
    "deletable": false,
    "editable": false,
    "nbgrader": {
     "cell_type": "markdown",
     "checksum": "5ea6f247b8490330306be81d96b12968",
     "grade": false,
     "grade_id": "cell-dbf010f638a0b404",
     "locked": true,
     "schema_version": 3,
     "solution": false,
     "task": false
    }
   },
   "source": [
    "**QUESTION 1.0**\n",
    "\n",
    "{points: 1}\n",
    "\n",
    "Now, it's your turn to store the percentage of time that **you** have spent at university into a variable - try typing the arithmetic expression that you used to compute that value, rather than the value itself! Name this variable `my_life_university` in the first cell below, and check whether the answer is acceptable by running the second cell below. If the test cell gives you an error, try a different answer!\n",
    "\n",
    "```\n",
    "my_life_university <- FILL_THIS_IN / FILL_THIS_IN * 100\n",
    "```"
   ]
  },
  {
   "cell_type": "code",
   "execution_count": null,
   "metadata": {
    "deletable": false,
    "editable": true,
    "name": "question-1-0",
    "nbgrader": {
     "cell_type": "code",
     "checksum": "0cee03a754ab5a12df6f162b94556ccd",
     "grade": false,
     "grade_id": "cell-04e950ccf3313117",
     "locked": false,
     "schema_version": 3,
     "solution": true,
     "task": false
    },
    "slideshow": {
     "slide_type": ""
    },
    "tags": []
   },
   "outputs": [],
   "source": [
    "# your code here\n",
    "fail() # No Answer - remove if you provide an answer"
   ]
  },
  {
   "cell_type": "code",
   "execution_count": null,
   "metadata": {
    "deletable": false,
    "editable": false,
    "name": "test-1-0",
    "nbgrader": {
     "cell_type": "code",
     "checksum": "29bd10e96f6e40c7d342156e99f3d19d",
     "grade": true,
     "grade_id": "cell-cebd6f6df5bdb3cc",
     "locked": true,
     "points": 1,
     "schema_version": 3,
     "solution": false,
     "task": false
    }
   },
   "outputs": [],
   "source": [
    "library(digest)\n",
    "stopifnot(\"type of (my_life_university > 0 && my_life_university < 100) is not logical\"= setequal(digest(paste(toString(class((my_life_university > 0 && my_life_university < 100))), \"acf2a\")), \"be24a6e2b81fcc178d601ff0b6c39de5\"))\n",
    "stopifnot(\"logical value of (my_life_university > 0 && my_life_university < 100) is not correct\"= setequal(digest(paste(toString((my_life_university > 0 && my_life_university < 100)), \"acf2a\")), \"0e9f7868c21feae2f244ecc45284275e\"))\n",
    "\n",
    "print('Success!')"
   ]
  },
  {
   "cell_type": "markdown",
   "metadata": {
    "deletable": false,
    "editable": false,
    "nbgrader": {
     "cell_type": "markdown",
     "checksum": "89d4a56ca7393b77e7f90e0a902ae01f",
     "grade": false,
     "grade_id": "cell-93af8d6b89c2ed33",
     "locked": true,
     "schema_version": 3,
     "solution": false,
     "task": false
    }
   },
   "source": [
    "### 1.3 Data structures\n",
    "\n",
    "Any object that contains data is called a data structure.\n",
    "\n",
    "### 1.3.1 Vectors\n",
    "\n",
    "#### Numeric vectors\n",
    "\n",
    "So far, you've learned how to use R as a calculator, and how to use variables to store numeric values. But in reality, a \"variable\" in R is just a way to name your data so that R can recall it later. Think of it as a label that you put on a box, so that you remember the contents that are inside it. \n",
    "\n",
    "The variable that you created above, `my_life_university`, stores the most basic data structure in R programming language: a vector. Even a single number is considered a vector of length one, which is the case with the vector that was assigned to `my_life_university`. Let's have a look again:"
   ]
  },
  {
   "cell_type": "code",
   "execution_count": null,
   "metadata": {
    "deletable": false,
    "editable": false,
    "name": "example-1-3",
    "nbgrader": {
     "cell_type": "code",
     "checksum": "e44e87c4120fdf8341725130781c113d",
     "grade": false,
     "grade_id": "cell-df8e5f769d89a75b",
     "locked": true,
     "schema_version": 3,
     "solution": false,
     "task": false
    }
   },
   "outputs": [],
   "source": [
    "my_life_university"
   ]
  },
  {
   "cell_type": "markdown",
   "metadata": {
    "deletable": false,
    "editable": false,
    "nbgrader": {
     "cell_type": "markdown",
     "checksum": "61bdcee9b0fcd71250e4f96152159133",
     "grade": false,
     "grade_id": "cell-f825e25671f73f81",
     "locked": true,
     "schema_version": 3,
     "solution": false,
     "task": false
    }
   },
   "source": [
    "In this way, you can think of the vector as the data structure, and the variable as a label. But what if you want a vector that's greater than length one, or in other words, that stores more than a single numeric value? The easiest way to create a vector is using `c()`, which stands for \"concatenate\", or \"combine\". \n",
    "\n",
    "**QUESTION 1.1**\n",
    "\n",
    "{points: 1}\n",
    "\n",
    "Let's give it a try. To create a vector containing the numbers 3.14, 2.71, and 6.28, type `c(3.14, 2.71, 6.28)`. Store the result in a variable called `x`. \n",
    "\n",
    "```\n",
    "x <- FILL_THIS_IN(FILL_THIS_IN, FILL_THIS_IN, FILL_THIS_IN)\n",
    "```"
   ]
  },
  {
   "cell_type": "code",
   "execution_count": null,
   "metadata": {
    "deletable": false,
    "name": "answer-1-1",
    "nbgrader": {
     "cell_type": "code",
     "checksum": "572c9bd7910ee747dbea4f848747ee21",
     "grade": false,
     "grade_id": "cell-0d87e7f0d19a4cda",
     "locked": false,
     "schema_version": 3,
     "solution": true,
     "task": false
    }
   },
   "outputs": [],
   "source": [
    "# your code here\n",
    "fail() # No Answer - remove if you provide an answer"
   ]
  },
  {
   "cell_type": "code",
   "execution_count": null,
   "metadata": {
    "deletable": false,
    "editable": false,
    "lines_to_next_cell": 2,
    "name": "test-1-1",
    "nbgrader": {
     "cell_type": "code",
     "checksum": "04b0aa8e52720c2f4eaceaaac9317efc",
     "grade": true,
     "grade_id": "cell-76c5ca05ef0dfe64",
     "locked": true,
     "points": 1,
     "schema_version": 3,
     "solution": false,
     "task": false
    }
   },
   "outputs": [],
   "source": [
    "library(digest)\n",
    "stopifnot(\"type of x is not numeric\"= setequal(digest(paste(toString(class(x)), \"447c6\")), \"3eeb4b9a2a475c6b061d202728a0203c\"))\n",
    "stopifnot(\"value of x is not correct (rounded to 2 decimal places)\"= setequal(digest(paste(toString(round(x, 2)), \"447c6\")), \"2acecad78c50ec1d3cd340cdccabeda6\"))\n",
    "stopifnot(\"length of x is not correct\"= setequal(digest(paste(toString(length(x)), \"447c6\")), \"839b7348432aa3658a3d9e5df2bf6adb\"))\n",
    "stopifnot(\"values of x are not correct\"= setequal(digest(paste(toString(sort(round(x, 2))), \"447c6\")), \"51ea846c1369174c347d9a9f2516cc7c\"))\n",
    "\n",
    "print('Success!')"
   ]
  },
  {
   "cell_type": "markdown",
   "metadata": {
    "deletable": false,
    "editable": false,
    "nbgrader": {
     "cell_type": "markdown",
     "checksum": "0563b38f546880a165f05ae2ee14b79a",
     "grade": false,
     "grade_id": "cell-f9bab0fdef44f45e",
     "locked": true,
     "schema_version": 3,
     "solution": false,
     "task": false
    }
   },
   "source": [
    "Now, type `x` and press Enter to view its contents. Notice that there are no commas separating the values in the output!"
   ]
  },
  {
   "cell_type": "code",
   "execution_count": null,
   "metadata": {
    "name": "activity-1-4"
   },
   "outputs": [],
   "source": [
    "# your code here"
   ]
  },
  {
   "cell_type": "markdown",
   "metadata": {
    "deletable": false,
    "editable": false,
    "nbgrader": {
     "cell_type": "markdown",
     "checksum": "721615b8ac86e74a741c8a7c2df33725",
     "grade": false,
     "grade_id": "cell-5200389128901c83",
     "locked": true,
     "schema_version": 3,
     "solution": false,
     "task": false
    }
   },
   "source": [
    "You can combine several vectors to make a new vector. And here is where things get fun! For the sake of seeing the result immediately, we won't store this combined vector in a new variable for now."
   ]
  },
  {
   "cell_type": "code",
   "execution_count": null,
   "metadata": {
    "deletable": false,
    "editable": false,
    "name": "example-1-6",
    "nbgrader": {
     "cell_type": "code",
     "checksum": "a7e68d07b2e0624ea8fd90d2c3fa3ee9",
     "grade": false,
     "grade_id": "cell-e71c214be4ee55a2",
     "locked": true,
     "schema_version": 3,
     "solution": false,
     "task": false
    }
   },
   "outputs": [],
   "source": [
    "c(10, 50)"
   ]
  },
  {
   "cell_type": "markdown",
   "metadata": {
    "deletable": false,
    "editable": false,
    "nbgrader": {
     "cell_type": "markdown",
     "checksum": "abbc362feca5cc96ca39ea27c005c0ce",
     "grade": false,
     "grade_id": "cell-ac73a3512f6cace0",
     "locked": true,
     "schema_version": 3,
     "solution": false,
     "task": false
    }
   },
   "source": [
    "And what's more: you can combine any numeric vectors together, regardless of whether they have already been assigned to a variable or not!"
   ]
  },
  {
   "cell_type": "code",
   "execution_count": null,
   "metadata": {
    "deletable": false,
    "editable": false,
    "name": "example-1-7",
    "nbgrader": {
     "cell_type": "code",
     "checksum": "ff2be7af35ee00ab8d33bb7e24b87c74",
     "grade": false,
     "grade_id": "cell-130366e4f3577c91",
     "locked": true,
     "schema_version": 3,
     "solution": false,
     "task": false
    }
   },
   "outputs": [],
   "source": [
    "c(x, 50)"
   ]
  },
  {
   "cell_type": "markdown",
   "metadata": {
    "deletable": false,
    "editable": false,
    "nbgrader": {
     "cell_type": "markdown",
     "checksum": "81ea39fd534e086128abdee398b171ec",
     "grade": false,
     "grade_id": "cell-15649fdc5348c402",
     "locked": true,
     "schema_version": 3,
     "solution": false,
     "task": false
    }
   },
   "source": [
    "**QUESTION 1.2**\n",
    "\n",
    "{points: 1}\n",
    "\n",
    "\n",
    "Your turn to give it a try. Create a new vector that contains `life_university`, `my_life_university`, and `25`. Store your result in a variable named `answer1.2`\n",
    "\n",
    "```\n",
    "answer1.2 <- FILL_THIS_IN(FILL_THIS_IN, FILL_THIS, FILL_THIS_IN)\n",
    "```"
   ]
  },
  {
   "cell_type": "code",
   "execution_count": null,
   "metadata": {
    "deletable": false,
    "nbgrader": {
     "cell_type": "code",
     "checksum": "273e22b62375ab449c19c2b006c4f2b6",
     "grade": false,
     "grade_id": "cell-61d5339d601052e3",
     "locked": false,
     "schema_version": 3,
     "solution": true,
     "task": false
    }
   },
   "outputs": [],
   "source": [
    "# your code here\n",
    "fail() # No Answer - remove if you provide an answer"
   ]
  },
  {
   "cell_type": "code",
   "execution_count": null,
   "metadata": {
    "deletable": false,
    "editable": false,
    "lines_to_next_cell": 2,
    "nbgrader": {
     "cell_type": "code",
     "checksum": "5b5ac90782ae516943599ffcc5462073",
     "grade": true,
     "grade_id": "cell-57e9c5dc76061b99",
     "locked": true,
     "points": 1,
     "schema_version": 3,
     "solution": false,
     "task": false
    }
   },
   "outputs": [],
   "source": [
    "library(digest)\n",
    "stopifnot(\"type of (answer1.2[1] == life_university) is not logical\"= setequal(digest(paste(toString(class((answer1.2[1] == life_university))), \"e52a7\")), \"aa1a30279f29c471d74412c87c047700\"))\n",
    "stopifnot(\"logical value of (answer1.2[1] == life_university) is not correct\"= setequal(digest(paste(toString((answer1.2[1] == life_university)), \"e52a7\")), \"215690b1623e92bd8ecd62782416f1f5\"))\n",
    "\n",
    "stopifnot(\"type of (answer1.2[2] == my_life_university) is not logical\"= setequal(digest(paste(toString(class((answer1.2[2] == my_life_university))), \"e52a8\")), \"14c9261bed6e5ea131636aca598d3340\"))\n",
    "stopifnot(\"logical value of (answer1.2[2] == my_life_university) is not correct\"= setequal(digest(paste(toString((answer1.2[2] == my_life_university)), \"e52a8\")), \"ff786d7b71a0fd1d0bdae08a31c2bb0e\"))\n",
    "\n",
    "stopifnot(\"type of (answer1.2[3] == 25) is not logical\"= setequal(digest(paste(toString(class((answer1.2[3] == 25))), \"e52a9\")), \"7d48d3e323119efdac88f4dbca2c1c69\"))\n",
    "stopifnot(\"logical value of (answer1.2[3] == 25) is not correct\"= setequal(digest(paste(toString((answer1.2[3] == 25)), \"e52a9\")), \"44ecc9b14203ab670393db0d4122e800\"))\n",
    "\n",
    "print('Success!')"
   ]
  },
  {
   "cell_type": "markdown",
   "metadata": {
    "deletable": false,
    "editable": false,
    "nbgrader": {
     "cell_type": "markdown",
     "checksum": "1739e7c4f2d3524d6bde57e71050a9d1",
     "grade": false,
     "grade_id": "cell-d735b7d8bb863e07",
     "locked": true,
     "schema_version": 3,
     "solution": false,
     "task": false
    }
   },
   "source": [
    "One more cool thing before we go on: numeric vectors can be used in arithmetic expressions. Remembering the vector that we created earlier and assigned to the variable `x`? Let's have a look at it again."
   ]
  },
  {
   "cell_type": "code",
   "execution_count": null,
   "metadata": {
    "deletable": false,
    "editable": false,
    "name": "example-1-8",
    "nbgrader": {
     "cell_type": "code",
     "checksum": "e1047c9fe39035940d6c1c7ad1564fd4",
     "grade": false,
     "grade_id": "cell-fc6dd20fb255df19",
     "locked": true,
     "schema_version": 3,
     "solution": false,
     "task": false
    }
   },
   "outputs": [],
   "source": [
    "x"
   ]
  },
  {
   "cell_type": "markdown",
   "metadata": {
    "deletable": false,
    "editable": false,
    "nbgrader": {
     "cell_type": "markdown",
     "checksum": "e0ece253c2f19d394b7b12eaba58cddf",
     "grade": false,
     "grade_id": "cell-0fd8e0ec44a7e215",
     "locked": true,
     "schema_version": 3,
     "solution": false,
     "task": false
    }
   },
   "source": [
    "**QUESTION 1.3**\n",
    "\n",
    "{points: 1}\n",
    "\n",
    "\n",
    "Here's a fun fact: those three numbers are actually pi, euler's number, and tau. But that's a story for another course! Type the following to see what happens: `x * 2 + 100`... Actually, **wait!** What do **you** think will be the result of doing that?\n",
    "\n",
    "* A) a vector of length three\n",
    "* B) a single number (a vector of length 1)\n",
    "* C) a vector of length 0 (i.e an empty vector)\n",
    "\n",
    "Assign your answer (\"A\", \"B\", or \"C\") to a variable named `answer1.3`."
   ]
  },
  {
   "cell_type": "code",
   "execution_count": null,
   "metadata": {
    "deletable": false,
    "name": "question-1-2",
    "nbgrader": {
     "cell_type": "code",
     "checksum": "b7f48be446dcfc4a65527a2fc8882f78",
     "grade": false,
     "grade_id": "cell-4ea46a88f826bae6",
     "locked": false,
     "schema_version": 3,
     "solution": true,
     "task": false
    }
   },
   "outputs": [],
   "source": [
    "#answer1.3 <- youranswer\n",
    "# your code here\n",
    "fail() # No Answer - remove if you provide an answer"
   ]
  },
  {
   "cell_type": "code",
   "execution_count": null,
   "metadata": {
    "deletable": false,
    "editable": false,
    "lines_to_next_cell": 2,
    "name": "answer-1-2",
    "nbgrader": {
     "cell_type": "code",
     "checksum": "7ed75bfaccb380c1f6ed9118d9b1495a",
     "grade": true,
     "grade_id": "cell-9c92d0ea4e3f081a",
     "locked": true,
     "points": 1,
     "schema_version": 3,
     "solution": false,
     "task": false
    }
   },
   "outputs": [],
   "source": [
    "library(digest)\n",
    "stopifnot(\"type of answer1.3 is not character\"= setequal(digest(paste(toString(class(answer1.3)), \"b3268\")), \"b8ac0826b9c0197497edd61c14a3de8d\"))\n",
    "stopifnot(\"length of answer1.3 is not correct\"= setequal(digest(paste(toString(length(answer1.3)), \"b3268\")), \"ac93667ad16c5720f8767e9da975114d\"))\n",
    "stopifnot(\"value of answer1.3 is not correct\"= setequal(digest(paste(toString(tolower(answer1.3)), \"b3268\")), \"2e44f1fd2160c7343971e138696e0e13\"))\n",
    "stopifnot(\"letters in string value of answer1.3 are correct but case is not correct\"= setequal(digest(paste(toString(answer1.3), \"b3268\")), \"6aff106c4cd8664b82f0623ab15a75b3\"))\n",
    "\n",
    "print('Success!')"
   ]
  },
  {
   "cell_type": "markdown",
   "metadata": {
    "deletable": false,
    "editable": false,
    "nbgrader": {
     "cell_type": "markdown",
     "checksum": "5756d09d08cb76f6a95355d748edbca2",
     "grade": false,
     "grade_id": "cell-d3aa19d258f6f70c",
     "locked": true,
     "schema_version": 3,
     "solution": false,
     "task": false
    }
   },
   "source": [
    "Let's see what actually happens. Type `x * 2 + 100` and press Enter."
   ]
  },
  {
   "cell_type": "code",
   "execution_count": null,
   "metadata": {
    "name": "activity-1-5"
   },
   "outputs": [],
   "source": [
    "# your code here"
   ]
  },
  {
   "cell_type": "markdown",
   "metadata": {
    "deletable": false,
    "editable": false,
    "nbgrader": {
     "cell_type": "markdown",
     "checksum": "42e05bf93edfd23861e052015e38c43f",
     "grade": false,
     "grade_id": "cell-e1c1527b81a91bf6",
     "locked": true,
     "schema_version": 3,
     "solution": false,
     "task": false
    }
   },
   "source": [
    "First, R multiplied each of the three elements in `x` by 2. Then, it added 100 to each element to get the result that you see.\n",
    "\n",
    "#### Logical vectors\n",
    "\n",
    "So far we have only dealt with **numeric** vectors. But there are other types of vectors in the R universe. Let's have a look.\n",
    "\n",
    "**QUESTION 1.4**\n",
    "\n",
    "\n",
    "{points: 1}\n",
    "\n",
    "\n",
    "\n",
    "Enough of university, let's talk about vacation! A group of friends are discussing the places that they visited in 2019, and trying to figure out how much total vacation time each of them took. Pablo says he took 54 days off to travel locally, Dana was on vacation for only 14 days, and Marianne went to the Caribbean for 30 days.\n",
    "\n",
    "Create a vector that contains the values of Pablo, Dana, and Marianne's vacation days, respectively. Assign it to a variable named `vacation_time`.\n",
    "\n",
    "```\n",
    "vacation_time <- FILL_THIS_IN(FILL_THIS_IN, FILL_THIS_IN, FILL_THIS_IN)\n",
    "```"
   ]
  },
  {
   "cell_type": "code",
   "execution_count": null,
   "metadata": {
    "deletable": false,
    "name": "question-1-3",
    "nbgrader": {
     "cell_type": "code",
     "checksum": "94de06fad101917ab8e27602a75d6304",
     "grade": false,
     "grade_id": "cell-bf017d7e63aa3be5",
     "locked": false,
     "schema_version": 3,
     "solution": true,
     "task": false
    }
   },
   "outputs": [],
   "source": [
    "# your code here\n",
    "fail() # No Answer - remove if you provide an answer"
   ]
  },
  {
   "cell_type": "code",
   "execution_count": null,
   "metadata": {
    "deletable": false,
    "editable": false,
    "lines_to_next_cell": 2,
    "name": "test 1-3",
    "nbgrader": {
     "cell_type": "code",
     "checksum": "017ebf85a2ddeefc33f3f3b4d21eaacf",
     "grade": true,
     "grade_id": "cell-103585f25bdefe8c",
     "locked": true,
     "points": 1,
     "schema_version": 3,
     "solution": false,
     "task": false
    }
   },
   "outputs": [],
   "source": [
    "library(digest)\n",
    "stopifnot(\"type of vacation_time is not numeric\"= setequal(digest(paste(toString(class(vacation_time)), \"57075\")), \"932c93302465d1f596533f438d0ed0e3\"))\n",
    "stopifnot(\"value of vacation_time is not correct (rounded to 2 decimal places)\"= setequal(digest(paste(toString(round(vacation_time, 2)), \"57075\")), \"82a05cc339f3ae5a0f258b16ff4e1b12\"))\n",
    "stopifnot(\"length of vacation_time is not correct\"= setequal(digest(paste(toString(length(vacation_time)), \"57075\")), \"b7432ca9a87c795d6f31b2ea7c375075\"))\n",
    "stopifnot(\"values of vacation_time are not correct\"= setequal(digest(paste(toString(sort(round(vacation_time, 2))), \"57075\")), \"781a588cc428abb9cd4209dead77dcea\"))\n",
    "\n",
    "print('Success!')"
   ]
  },
  {
   "cell_type": "markdown",
   "metadata": {
    "deletable": false,
    "editable": false,
    "nbgrader": {
     "cell_type": "markdown",
     "checksum": "3f464f12fe0a9fe2c5844f682bfcb552",
     "grade": false,
     "grade_id": "cell-f9ff62ffcfa6cfdd",
     "locked": true,
     "schema_version": 3,
     "solution": false,
     "task": false
    }
   },
   "source": [
    "**QUESTION 1.5**\n",
    "\n",
    "{points: 1}\n",
    "\n",
    "\n",
    "Which person was on vacation for more than 21600 minutes? First, create a numeric vector that multiplies the `vacation_time` vector by 1440 (the number of minutes in a day), to find out what each person's vacation time is *in minutes*. Assign this to a variable named `vacation_time_minutes`.\n",
    "\n",
    "```\n",
    "vacation_time_minutes <- FILL_THIS_IN * FILL_THIS_IN\n",
    "```"
   ]
  },
  {
   "cell_type": "code",
   "execution_count": null,
   "metadata": {
    "deletable": false,
    "name": "question-1-4",
    "nbgrader": {
     "cell_type": "code",
     "checksum": "1f53b0a5a1d7f1d61f208bab7ed29e24",
     "grade": false,
     "grade_id": "cell-eff123da37be623e",
     "locked": false,
     "schema_version": 3,
     "solution": true,
     "task": false
    }
   },
   "outputs": [],
   "source": [
    "# your code here\n",
    "fail() # No Answer - remove if you provide an answer"
   ]
  },
  {
   "cell_type": "code",
   "execution_count": null,
   "metadata": {
    "deletable": false,
    "editable": false,
    "name": "test-1-4",
    "nbgrader": {
     "cell_type": "code",
     "checksum": "27d2cc1e8c25b82d2cc45a8c088b8c53",
     "grade": true,
     "grade_id": "cell-aa364a693337a118",
     "locked": true,
     "points": 1,
     "schema_version": 3,
     "solution": false,
     "task": false
    }
   },
   "outputs": [],
   "source": [
    "library(digest)\n",
    "stopifnot(\"type of vacation_time_minutes is not numeric\"= setequal(digest(paste(toString(class(vacation_time_minutes)), \"8093b\")), \"173b4b4df8cb1e59cc8badc7bd7d0d56\"))\n",
    "stopifnot(\"value of vacation_time_minutes is not correct (rounded to 2 decimal places)\"= setequal(digest(paste(toString(round(vacation_time_minutes, 2)), \"8093b\")), \"a0bed5f18483fa6596afc107e6f34bd3\"))\n",
    "stopifnot(\"length of vacation_time_minutes is not correct\"= setequal(digest(paste(toString(length(vacation_time_minutes)), \"8093b\")), \"29c70dad07185aa80f311908e8fb7e56\"))\n",
    "stopifnot(\"values of vacation_time_minutes are not correct\"= setequal(digest(paste(toString(sort(round(vacation_time_minutes, 2))), \"8093b\")), \"f20a3053b04a06c60ea03f12acf91c55\"))\n",
    "\n",
    "print('Success!')"
   ]
  },
  {
   "cell_type": "markdown",
   "metadata": {
    "deletable": false,
    "editable": false,
    "nbgrader": {
     "cell_type": "markdown",
     "checksum": "88143540f89e57047676609c6ccdfacc",
     "grade": false,
     "grade_id": "cell-c564977e2f838536",
     "locked": true,
     "schema_version": 3,
     "solution": false,
     "task": false
    }
   },
   "source": [
    "**QUESTION 1.6**\n",
    "\n",
    "{points: 1}\n",
    "\n",
    "\n",
    "Now, create a variable called `under_21600` that gets the result of `vacation_time_minutes > 21600`, which is read as 'vacation_time_minutes is more than 21600'.\n",
    "\n",
    "```\n",
    "under_21600 <- FILL_THIS_IN > FILL_THIS_IN\n",
    "```"
   ]
  },
  {
   "cell_type": "code",
   "execution_count": null,
   "metadata": {
    "deletable": false,
    "name": "question-1-5",
    "nbgrader": {
     "cell_type": "code",
     "checksum": "7eaa0000a234bb666b2a8a39d8bf094b",
     "grade": false,
     "grade_id": "cell-1dc4a1742d34d0d7",
     "locked": false,
     "schema_version": 3,
     "solution": true,
     "task": false
    }
   },
   "outputs": [],
   "source": [
    "# your code here\n",
    "fail() # No Answer - remove if you provide an answer"
   ]
  },
  {
   "cell_type": "code",
   "execution_count": null,
   "metadata": {
    "deletable": false,
    "editable": false,
    "lines_to_next_cell": 2,
    "name": "test-1-5",
    "nbgrader": {
     "cell_type": "code",
     "checksum": "74f01fd784f645364a437ff5bdbd47e7",
     "grade": true,
     "grade_id": "cell-f62760b95bea63e2",
     "locked": true,
     "points": 1,
     "schema_version": 3,
     "solution": false,
     "task": false
    }
   },
   "outputs": [],
   "source": [
    "library(digest)\n",
    "stopifnot(\"type of under_21600 is not logical\"= setequal(digest(paste(toString(class(under_21600)), \"103c1\")), \"80342b26d24fc3072fb1d4e9375efae2\"))\n",
    "stopifnot(\"logical value of under_21600 is not correct\"= setequal(digest(paste(toString(under_21600), \"103c1\")), \"508ba1ac73ed0b9cdac76095b2e19c2a\"))\n",
    "\n",
    "print('Success!')"
   ]
  },
  {
   "cell_type": "markdown",
   "metadata": {
    "deletable": false,
    "editable": false,
    "nbgrader": {
     "cell_type": "markdown",
     "checksum": "b45a868df4f847335f0b6efd0d81191d",
     "grade": false,
     "grade_id": "cell-abc0b44d2845a5af",
     "locked": true,
     "schema_version": 3,
     "solution": false,
     "task": false
    }
   },
   "source": [
    "Have a look at the output of `under_21600` by typing the name and pressing Enter."
   ]
  },
  {
   "cell_type": "code",
   "execution_count": null,
   "metadata": {
    "name": "activity-1-6"
   },
   "outputs": [],
   "source": [
    "# your code here"
   ]
  },
  {
   "cell_type": "markdown",
   "metadata": {
    "deletable": false,
    "editable": false,
    "nbgrader": {
     "cell_type": "markdown",
     "checksum": "e6921322bd37100659188f5147f0c92a",
     "grade": false,
     "grade_id": "cell-4d1d9ba986efdbdd",
     "locked": true,
     "schema_version": 3,
     "solution": false,
     "task": false
    }
   },
   "source": [
    "Congratulations! You've created your first **logical vector**. Logical vectors can contain the values `TRUE`, `FALSE`, and `NA` (for 'not available' - this happens when you have missing data!). These values are generated as the result of logical 'conditions'. We have seen the logical operator \"greater than\" in this activity, but there are [many more](https://www.statmethods.net/management/operators.html), such as \"less than\", \"exactly equal to\", or \"not equal to\". Don't worry, there will be plenty of time to use those in the future!\n",
    "\n",
    "#### ...and more\n",
    "\n",
    "There are other types of vectors out there in the R universe, such as character vectors. We won't get into the nitty gritty of these - logical and numeric are the most basic R vectors, the ones that you absolutely need to know & that we will use most often. However, we didn't want to leave you in the dark about these other types of vectors! If you really, really want to know more, you can read [more about vectors](https://r4ds.had.co.nz/vectors.html) here.\n",
    "\n",
    "Anyway, here is a handy tip! If you ever come across a vector and you're not sure what it is, you can inspect its two key properties: type, and length. Here is an example of how you would do it. *\"Double\" is just a type of numeric vector.*"
   ]
  },
  {
   "cell_type": "code",
   "execution_count": null,
   "metadata": {
    "deletable": false,
    "editable": false,
    "name": "example-1-9",
    "nbgrader": {
     "cell_type": "code",
     "checksum": "68864d7db51300163fe4beea08eef1ce",
     "grade": false,
     "grade_id": "cell-ed6eca0c2a79760f",
     "locked": true,
     "schema_version": 3,
     "solution": false,
     "task": false
    }
   },
   "outputs": [],
   "source": [
    "typeof(x)\n",
    "length(x)"
   ]
  },
  {
   "cell_type": "markdown",
   "metadata": {
    "deletable": false,
    "editable": false,
    "jp-MarkdownHeadingCollapsed": true,
    "nbgrader": {
     "cell_type": "markdown",
     "checksum": "d14ccbf11802a87043d0a13c6d7e0bdd",
     "grade": false,
     "grade_id": "cell-08f89be93b548b8e",
     "locked": true,
     "schema_version": 3,
     "solution": false,
     "task": false
    }
   },
   "source": [
    "### 1.3.2 Dataframes\n",
    "\n",
    "Living in a vector-only world would be nice if all data analyses involved one variable. When we have more than one variable, data frames come to the rescue. Basically, a data frame holds data in tabular format. R has some data frames \"built in\". For example, motor car data is attached to the variable name mtcars.\n",
    "\n",
    "Print `mtcars` to screen. If I haven't mentioned before, \"print\" means to type the name of the object, and press Enter -- which is the same as surrounding the object with the `print()` function. Notice the tabular format."
   ]
  },
  {
   "cell_type": "code",
   "execution_count": null,
   "metadata": {
    "deletable": false,
    "editable": false,
    "name": "activity-1-7",
    "nbgrader": {
     "cell_type": "code",
     "checksum": "4462db1059ae4f2162e03e5bd3b6f47f",
     "grade": false,
     "grade_id": "cell-d9ce48db712f1b07",
     "locked": true,
     "schema_version": 3,
     "solution": false,
     "task": false
    }
   },
   "outputs": [],
   "source": [
    "mtcars\n",
    "print(mtcars)"
   ]
  },
  {
   "cell_type": "markdown",
   "metadata": {
    "deletable": false,
    "editable": false,
    "nbgrader": {
     "cell_type": "markdown",
     "checksum": "4432ffa04a378b0c03f90025c5201e44",
     "grade": false,
     "grade_id": "cell-61de1f2d0df5bca4",
     "locked": true,
     "schema_version": 3,
     "solution": false,
     "task": false
    }
   },
   "source": [
    "We will talk more about dataframes in just a bit, but for now, just keep in mind that they are one of the most used data structures in R - albeit more complex than vectors.\n",
    "\n",
    "### 1.4 Subsetting\n",
    "\n",
    "Often, when you're working with a large dataset (such as `mtcars`), you will only be interested in a small portion of it. Even when working with a simpler data structure, such as vectors, you may want to extract a particular value that you are interested in. R has several ways of doing this, in a process that it calls \"subsetting\". Subsetting dataframes is definitely a more complex task - we will start little, with vectors.\n",
    "\n",
    "A student from a previous STAT545 cohort tracked his commute times for two weeks (10 days), and saved them in a vector that he stored in the variable `times`. Here is the `times` variable. "
   ]
  },
  {
   "cell_type": "code",
   "execution_count": null,
   "metadata": {
    "deletable": false,
    "editable": false,
    "name": "times",
    "nbgrader": {
     "cell_type": "code",
     "checksum": "0e91114856a66ca7c65b3dc7d08a9cb3",
     "grade": false,
     "grade_id": "cell-78252235e1d5148b",
     "locked": true,
     "schema_version": 3,
     "solution": false,
     "task": false
    }
   },
   "outputs": [],
   "source": [
    "times <- c(18, 22, 43, 26, 75, 31, 32, 17, 16, 51)"
   ]
  },
  {
   "cell_type": "markdown",
   "metadata": {
    "deletable": false,
    "editable": false,
    "nbgrader": {
     "cell_type": "markdown",
     "checksum": "707e0a9f08eb800ad265cb2702576a80",
     "grade": false,
     "grade_id": "cell-f9666453c58f185c",
     "locked": true,
     "schema_version": 3,
     "solution": false,
     "task": false
    }
   },
   "source": [
    "We use `[]` to subset the vector of times. Although we had a look at this in class, here are a couple examples to refresh your memory. To extract the first entry of a vector:"
   ]
  },
  {
   "cell_type": "code",
   "execution_count": null,
   "metadata": {
    "deletable": false,
    "editable": false,
    "name": "example-1-10",
    "nbgrader": {
     "cell_type": "code",
     "checksum": "db9c6444ed7a3182ead977cefa09792f",
     "grade": false,
     "grade_id": "cell-bd8f9c32442ea258",
     "locked": true,
     "schema_version": 3,
     "solution": false,
     "task": false
    }
   },
   "outputs": [],
   "source": [
    "x[1]"
   ]
  },
  {
   "cell_type": "markdown",
   "metadata": {
    "deletable": false,
    "editable": false,
    "nbgrader": {
     "cell_type": "markdown",
     "checksum": "343b7699668faf34de074f6b6f08b640",
     "grade": false,
     "grade_id": "cell-d22c02234f3ab50f",
     "locked": true,
     "schema_version": 3,
     "solution": false,
     "task": false
    }
   },
   "source": [
    "And if I want to extract everything *but* the first entry:"
   ]
  },
  {
   "cell_type": "code",
   "execution_count": null,
   "metadata": {
    "deletable": false,
    "editable": false,
    "name": "example-1-11",
    "nbgrader": {
     "cell_type": "code",
     "checksum": "ea66f3554a4c1813d7ff0ac5ca685765",
     "grade": false,
     "grade_id": "cell-2fead6186e5faa2f",
     "locked": true,
     "schema_version": 3,
     "solution": false,
     "task": false
    }
   },
   "outputs": [],
   "source": [
    "x[-1]"
   ]
  },
  {
   "cell_type": "markdown",
   "metadata": {
    "deletable": false,
    "editable": false,
    "nbgrader": {
     "cell_type": "markdown",
     "checksum": "5da11931c5fd4d58a918c132aa9d23ae",
     "grade": false,
     "grade_id": "cell-a9afbe0547d200af",
     "locked": true,
     "schema_version": 3,
     "solution": false,
     "task": false
    }
   },
   "source": [
    "You're doing a great job! Now, it's your turn to use `[]` to subset the vector of times. Keep it up!\n",
    "\n",
    "**QUESTION 1.7**\n",
    "\n",
    "{points: 1}\n",
    "\n",
    "Extract the third entry of the `times` vector, and store the result in a variable named `answer1.7`.\n",
    "\n",
    "```\n",
    "answer1.7 <- FILL_THIS_IN[FILL_THIS_IN]\n",
    "```"
   ]
  },
  {
   "cell_type": "code",
   "execution_count": null,
   "metadata": {
    "deletable": false,
    "nbgrader": {
     "cell_type": "code",
     "checksum": "e0eed527255169c1fc1098c273e47867",
     "grade": false,
     "grade_id": "cell-9c43bdaa066cf9be",
     "locked": false,
     "schema_version": 3,
     "solution": true,
     "task": false
    }
   },
   "outputs": [],
   "source": [
    "# your code here\n",
    "fail() # No Answer - remove if you provide an answer"
   ]
  },
  {
   "cell_type": "code",
   "execution_count": null,
   "metadata": {
    "deletable": false,
    "editable": false,
    "lines_to_next_cell": 2,
    "nbgrader": {
     "cell_type": "code",
     "checksum": "1aecc8e6dcf5a0963d5a79bb03cf4ece",
     "grade": true,
     "grade_id": "cell-fc4318f2c768353e",
     "locked": true,
     "points": 1,
     "schema_version": 3,
     "solution": false,
     "task": false
    }
   },
   "outputs": [],
   "source": [
    "library(digest)\n",
    "stopifnot(\"type of answer1.7 is not numeric\"= setequal(digest(paste(toString(class(answer1.7)), \"6b17c\")), \"4a4c02be45841cfaa8c092927b1d9b02\"))\n",
    "stopifnot(\"value of answer1.7 is not correct (rounded to 2 decimal places)\"= setequal(digest(paste(toString(round(answer1.7, 2)), \"6b17c\")), \"b5ec80afbcd80b17e90895d521ba1496\"))\n",
    "stopifnot(\"length of answer1.7 is not correct\"= setequal(digest(paste(toString(length(answer1.7)), \"6b17c\")), \"f0fad4f5ff5ea86190f5753a8d373de4\"))\n",
    "stopifnot(\"values of answer1.7 are not correct\"= setequal(digest(paste(toString(sort(round(answer1.7, 2))), \"6b17c\")), \"b5ec80afbcd80b17e90895d521ba1496\"))\n",
    "\n",
    "print('Success!')"
   ]
  },
  {
   "cell_type": "markdown",
   "metadata": {
    "deletable": false,
    "editable": false,
    "nbgrader": {
     "cell_type": "markdown",
     "checksum": "146e934390203b37f2f5c66ac494cdf3",
     "grade": false,
     "grade_id": "cell-6d72f91cfe89bbbe",
     "locked": true,
     "schema_version": 3,
     "solution": false,
     "task": false
    }
   },
   "source": [
    "**QUESTION 1.8**\n",
    "\n",
    "{points: 1}\n",
    "\n",
    "\n",
    "Extract everything in `times` except the third entry. Store the result in a variable named `answer1.8`.\n",
    "\n",
    "```\n",
    "answer1.8 <- FILL_THIS_IN[-FILL_THIS_IN]\n",
    "```"
   ]
  },
  {
   "cell_type": "code",
   "execution_count": null,
   "metadata": {
    "deletable": false,
    "name": "question-1-6",
    "nbgrader": {
     "cell_type": "code",
     "checksum": "c4cdedd545710376513435bdcb02690f",
     "grade": false,
     "grade_id": "cell-5059b20d3a5e2257",
     "locked": false,
     "schema_version": 3,
     "solution": true,
     "task": false
    }
   },
   "outputs": [],
   "source": [
    "# your code here\n",
    "fail() # No Answer - remove if you provide an answer"
   ]
  },
  {
   "cell_type": "code",
   "execution_count": null,
   "metadata": {
    "deletable": false,
    "editable": false,
    "lines_to_next_cell": 2,
    "name": "test-1-6",
    "nbgrader": {
     "cell_type": "code",
     "checksum": "baa1ddccad7288ee713d66ad0ae59da5",
     "grade": true,
     "grade_id": "cell-529aaa0beede8288",
     "locked": true,
     "points": 1,
     "schema_version": 3,
     "solution": false,
     "task": false
    }
   },
   "outputs": [],
   "source": [
    "library(digest)\n",
    "stopifnot(\"type of answer1.8 is not numeric\"= setequal(digest(paste(toString(class(answer1.8)), \"66049\")), \"18db66a457858a3893efe8f1f49886ee\"))\n",
    "stopifnot(\"value of answer1.8 is not correct (rounded to 2 decimal places)\"= setequal(digest(paste(toString(round(answer1.8, 2)), \"66049\")), \"657bb2486ba5522944af4e776ef1f079\"))\n",
    "stopifnot(\"length of answer1.8 is not correct\"= setequal(digest(paste(toString(length(answer1.8)), \"66049\")), \"cb52b254235c4cf5563fb4a42890a76c\"))\n",
    "stopifnot(\"values of answer1.8 are not correct\"= setequal(digest(paste(toString(sort(round(answer1.8, 2))), \"66049\")), \"2d72ae244f038faddf00e2a4087dbff2\"))\n",
    "\n",
    "print('Success!')"
   ]
  },
  {
   "cell_type": "markdown",
   "metadata": {
    "deletable": false,
    "editable": false,
    "nbgrader": {
     "cell_type": "markdown",
     "checksum": "092872abecee7ca3bccfe2e93fcefbe8",
     "grade": false,
     "grade_id": "cell-291d05e19e05b8ff",
     "locked": true,
     "schema_version": 3,
     "solution": false,
     "task": false
    }
   },
   "source": [
    "**QUESTION 1.9**\n",
    "\n",
    "{points: 1}\n",
    "\n",
    "\n",
    "Extract the second and fourth entry of `times`, and store it in a variable called `answer1.9a`. Extract the fourth and second entry of `times`, and store it in a variable called `answer1.9b`. *Hint: remember `c()`?*\n",
    "\n",
    "```\n",
    "answer1.9a <- FILL_THIS_IN[FILL_THIS_IN(FILL_THIS_IN, FILL_THIS_IN)]\n",
    "answer1.9b <- FILL_THIS_IN[FILL_THIS_IN(FILL_THIS_IN, FILL_THIS_IN)]\n",
    "```"
   ]
  },
  {
   "cell_type": "code",
   "execution_count": null,
   "metadata": {
    "deletable": false,
    "name": "question-1-7",
    "nbgrader": {
     "cell_type": "code",
     "checksum": "7ee37a94cfcdb35f3f1ad79335ef7f8a",
     "grade": false,
     "grade_id": "cell-122807aab027ca58",
     "locked": false,
     "schema_version": 3,
     "solution": true,
     "task": false
    }
   },
   "outputs": [],
   "source": [
    "# your code here\n",
    "fail() # No Answer - remove if you provide an answer"
   ]
  },
  {
   "cell_type": "code",
   "execution_count": null,
   "metadata": {
    "deletable": false,
    "editable": false,
    "lines_to_next_cell": 0,
    "name": "test-1-7",
    "nbgrader": {
     "cell_type": "code",
     "checksum": "d26f0cba83c2b23bb4846bbde2715cf5",
     "grade": true,
     "grade_id": "cell-5ce1faeb13ff62de",
     "locked": true,
     "points": 1,
     "schema_version": 3,
     "solution": false,
     "task": false
    }
   },
   "outputs": [],
   "source": [
    "library(digest)\n",
    "stopifnot(\"type of answer1.9a is not numeric\"= setequal(digest(paste(toString(class(answer1.9a)), \"3f5a2\")), \"b15b568a795304d3a21c3302ec3e1594\"))\n",
    "stopifnot(\"value of answer1.9a is not correct (rounded to 2 decimal places)\"= setequal(digest(paste(toString(round(answer1.9a, 2)), \"3f5a2\")), \"c2295d96fa0e78a2e30764865ec196a8\"))\n",
    "stopifnot(\"length of answer1.9a is not correct\"= setequal(digest(paste(toString(length(answer1.9a)), \"3f5a2\")), \"69e14f7e0cd960c13b57f33d0b87d3be\"))\n",
    "stopifnot(\"values of answer1.9a are not correct\"= setequal(digest(paste(toString(sort(round(answer1.9a, 2))), \"3f5a2\")), \"c2295d96fa0e78a2e30764865ec196a8\"))\n",
    "\n",
    "stopifnot(\"type of answer1.9b is not numeric\"= setequal(digest(paste(toString(class(answer1.9b)), \"3f5a3\")), \"69977c2ff814354da69f875393e76ab3\"))\n",
    "stopifnot(\"value of answer1.9b is not correct (rounded to 2 decimal places)\"= setequal(digest(paste(toString(round(answer1.9b, 2)), \"3f5a3\")), \"bddf1dc6b1ee42ae12a3042ef2d8b1cb\"))\n",
    "stopifnot(\"length of answer1.9b is not correct\"= setequal(digest(paste(toString(length(answer1.9b)), \"3f5a3\")), \"0efa2b4e29c13f91cc3b71d1980885c4\"))\n",
    "stopifnot(\"values of answer1.9b are not correct\"= setequal(digest(paste(toString(sort(round(answer1.9b, 2))), \"3f5a3\")), \"7a0deb68381620b4fdad28809af994c2\"))\n",
    "\n",
    "print('Success!')"
   ]
  },
  {
   "cell_type": "markdown",
   "metadata": {
    "deletable": false,
    "editable": false,
    "nbgrader": {
     "cell_type": "markdown",
     "checksum": "86fd1261ed28036b5af50dcb25b5d2b8",
     "grade": false,
     "grade_id": "cell-285513d8d0a7b29b",
     "locked": true,
     "schema_version": 3,
     "solution": false,
     "task": false
    }
   },
   "source": [
    "**QUESTION 1.10**\n",
    "\n",
    "{points: 1}\n",
    "\n",
    "\n",
    "Extract the second through fifth entry of `times` – make use of `:` to construct sequential vectors. Store the result in a variable named `answer1.10`.\n",
    "\n",
    "```\n",
    "answer1.10 <- FILL_THIS_IN[FILL_THIS_IN:FILL_THIS_IN]\n",
    "```"
   ]
  },
  {
   "cell_type": "code",
   "execution_count": null,
   "metadata": {
    "deletable": false,
    "name": "question-1-8",
    "nbgrader": {
     "cell_type": "code",
     "checksum": "6ced58e38f9709fd1afbd7eb02c1d007",
     "grade": false,
     "grade_id": "cell-b43afbf7653655cd",
     "locked": false,
     "schema_version": 3,
     "solution": true,
     "task": false
    }
   },
   "outputs": [],
   "source": [
    "# your code here\n",
    "fail() # No Answer - remove if you provide an answer"
   ]
  },
  {
   "cell_type": "code",
   "execution_count": null,
   "metadata": {
    "deletable": false,
    "editable": false,
    "lines_to_next_cell": 2,
    "name": "test-1-8",
    "nbgrader": {
     "cell_type": "code",
     "checksum": "f6ecba7f1b323e97a28c4e18788bb3a6",
     "grade": true,
     "grade_id": "cell-aa55397aaf797937",
     "locked": true,
     "points": 1,
     "schema_version": 3,
     "solution": false,
     "task": false
    },
    "slideshow": {
     "slide_type": ""
    },
    "tags": []
   },
   "outputs": [],
   "source": [
    "library(digest)\n",
    "stopifnot(\"type of answer1.10 is not numeric\"= setequal(digest(paste(toString(class(answer1.10)), \"d8f1d\")), \"3cecee7501b9d197c48c2d39795d3371\"))\n",
    "stopifnot(\"value of answer1.10 is not correct (rounded to 2 decimal places)\"= setequal(digest(paste(toString(round(answer1.10, 2)), \"d8f1d\")), \"6568d41004160c981159cd18fc62cc7b\"))\n",
    "stopifnot(\"length of answer1.10 is not correct\"= setequal(digest(paste(toString(length(answer1.10)), \"d8f1d\")), \"7223f2c8951fabb811d7b35b84b7b083\"))\n",
    "stopifnot(\"values of answer1.10 are not correct\"= setequal(digest(paste(toString(sort(round(answer1.10, 2))), \"d8f1d\")), \"0b5ef5c3f322152f68c7236c00688d32\"))\n",
    "\n",
    "print('Success!')"
   ]
  },
  {
   "cell_type": "markdown",
   "metadata": {
    "deletable": false,
    "editable": false,
    "nbgrader": {
     "cell_type": "markdown",
     "checksum": "a2fa321e9f249d65060daf89315cb08c",
     "grade": false,
     "grade_id": "cell-19dcdf530107701a",
     "locked": true,
     "schema_version": 3,
     "solution": false,
     "task": false
    }
   },
   "source": [
    "**QUESTION 1.11**\n",
    "\n",
    "{points: 1}\n",
    "\n",
    "\n",
    "Extract all entries of `times` that are less than 30 minutes, and place the result in a variable named `answer1.11`. Why does this work? Logical subsetting!\n",
    "\n",
    "```\n",
    "answer1.11 <- FILL_THIS_IN[FILL_THIS_IN < FILL_THIS_IN]\n",
    "```"
   ]
  },
  {
   "cell_type": "code",
   "execution_count": null,
   "metadata": {
    "deletable": false,
    "editable": true,
    "name": "question-1-9",
    "nbgrader": {
     "cell_type": "code",
     "checksum": "be33cee6d3fd7511380b813593d0f8f3",
     "grade": false,
     "grade_id": "cell-2e0e3bcdd6873bb5",
     "locked": false,
     "schema_version": 3,
     "solution": true,
     "task": false
    },
    "slideshow": {
     "slide_type": ""
    },
    "tags": []
   },
   "outputs": [],
   "source": [
    "# your code here\n",
    "fail() # No Answer - remove if you provide an answer"
   ]
  },
  {
   "cell_type": "code",
   "execution_count": null,
   "metadata": {
    "deletable": false,
    "editable": false,
    "lines_to_next_cell": 2,
    "name": "test-1-9",
    "nbgrader": {
     "cell_type": "code",
     "checksum": "c67611c1d9bd330228f8839d5a19eb12",
     "grade": true,
     "grade_id": "cell-84c765a59f939e4a",
     "locked": true,
     "points": 1,
     "schema_version": 3,
     "solution": false,
     "task": false
    },
    "slideshow": {
     "slide_type": ""
    },
    "tags": []
   },
   "outputs": [],
   "source": [
    "library(digest)\n",
    "stopifnot(\"type of answer1.11 is not numeric\"= setequal(digest(paste(toString(class(answer1.11)), \"52376\")), \"d3fc241d045d92ddb3bef09a5cc0628a\"))\n",
    "stopifnot(\"value of answer1.11 is not correct (rounded to 2 decimal places)\"= setequal(digest(paste(toString(round(answer1.11, 2)), \"52376\")), \"d5cc23bf75c80d11abddf52e65e8e0e2\"))\n",
    "stopifnot(\"length of answer1.11 is not correct\"= setequal(digest(paste(toString(length(answer1.11)), \"52376\")), \"3e0339564cc11a9e4065f390d196e440\"))\n",
    "stopifnot(\"values of answer1.11 are not correct\"= setequal(digest(paste(toString(sort(round(answer1.11, 2))), \"52376\")), \"ac9d46a16e46d74becfd534b5c6e6079\"))\n",
    "\n",
    "print('Success!')"
   ]
  },
  {
   "cell_type": "markdown",
   "metadata": {
    "deletable": false,
    "editable": false,
    "nbgrader": {
     "cell_type": "markdown",
     "checksum": "3a5da7059d48388dd61e63be87c1025a",
     "grade": false,
     "grade_id": "cell-000a9cf18a089909",
     "locked": true,
     "schema_version": 3,
     "solution": false,
     "task": false
    }
   },
   "source": [
    "**QUESTION 1.12**\n",
    "\n",
    "{points: 1}\n",
    "\n",
    "\n",
    "After all of that, did the `times` object change at all?\n",
    "\n",
    "Multiple Choice:\n",
    "\n",
    "A) yes\n",
    "\n",
    "B) no\n",
    "\n",
    "C) not sure\n",
    "\n",
    "Store your answer (e.g. the letter corresponding to the correct option) in an object called `answer1.12`. Note that the answer should be a string type, such as \"X\")\n",
    "\n",
    "```\n",
    "answer1.12 <- FILL_THIS_IN\n",
    "```"
   ]
  },
  {
   "cell_type": "code",
   "execution_count": null,
   "metadata": {
    "deletable": false,
    "name": "question-1-10",
    "nbgrader": {
     "cell_type": "code",
     "checksum": "f347669dacd315a33bf4a841556d70c4",
     "grade": false,
     "grade_id": "cell-7ab202b71ea51f36",
     "locked": false,
     "schema_version": 3,
     "solution": true,
     "task": false
    }
   },
   "outputs": [],
   "source": [
    "# your code here\n",
    "fail() # No Answer - remove if you provide an answer"
   ]
  },
  {
   "cell_type": "code",
   "execution_count": null,
   "metadata": {
    "deletable": false,
    "editable": false,
    "nbgrader": {
     "cell_type": "code",
     "checksum": "99f602903e6e03995c2f7e30aca1016a",
     "grade": true,
     "grade_id": "cell-b58cf9a17dd5dae2",
     "locked": true,
     "points": 1,
     "schema_version": 3,
     "solution": false,
     "task": false
    }
   },
   "outputs": [],
   "source": [
    "library(digest)\n",
    "stopifnot(\"type of answer1.12 is not character\"= setequal(digest(paste(toString(class(answer1.12)), \"b9619\")), \"0b727dbd2449c3549bbb2f3c24236699\"))\n",
    "stopifnot(\"length of answer1.12 is not correct\"= setequal(digest(paste(toString(length(answer1.12)), \"b9619\")), \"1d8097fe0a1e0a44fb41aace9957c257\"))\n",
    "stopifnot(\"value of answer1.12 is not correct\"= setequal(digest(paste(toString(tolower(answer1.12)), \"b9619\")), \"9881731098e64e100d693601c12e72e8\"))\n",
    "stopifnot(\"letters in string value of answer1.12 are correct but case is not correct\"= setequal(digest(paste(toString(answer1.12), \"b9619\")), \"4e6f8606118082d618dd7cce49623911\"))\n",
    "\n",
    "print('Success!')"
   ]
  },
  {
   "cell_type": "markdown",
   "metadata": {
    "deletable": false,
    "editable": false,
    "nbgrader": {
     "cell_type": "markdown",
     "checksum": "67fa9d0c4d6768937318104547c1b254",
     "grade": false,
     "grade_id": "cell-bd15376b48e4811b",
     "locked": true,
     "schema_version": 3,
     "solution": false,
     "task": false
    }
   },
   "source": [
    "**QUESTION 1.13**\n",
    "\n",
    "{points: 1}\n",
    "\n",
    "\n",
    "This is a bit of challenge, but I bet you can do it. Try using `[]` in conjunction with `<-` to change the `times` objects by replacing the 2nd and 3rd entries with 2 new travel times of your choosing.\n",
    "\n",
    "(Before you do that, allow us to store the original `times` object for autograding!)"
   ]
  },
  {
   "cell_type": "code",
   "execution_count": null,
   "metadata": {
    "deletable": false,
    "editable": false,
    "nbgrader": {
     "cell_type": "code",
     "checksum": "e005f83330f8029f46e5bd6be646ba54",
     "grade": false,
     "grade_id": "cell-cd7661342aaca022",
     "locked": true,
     "schema_version": 3,
     "solution": false,
     "task": false
    }
   },
   "outputs": [],
   "source": [
    "times_old <- times"
   ]
  },
  {
   "cell_type": "markdown",
   "metadata": {
    "deletable": false,
    "editable": false,
    "nbgrader": {
     "cell_type": "markdown",
     "checksum": "172c9cb7acf617ce6784f18967834f38",
     "grade": false,
     "grade_id": "cell-9394243633df3245",
     "locked": true,
     "schema_version": 3,
     "solution": false,
     "task": false
    }
   },
   "source": [
    "Now, answer away!\n",
    "\n",
    "```\n",
    "FILL_THIS_IN[FILL_THIS_IN(FILL_THIS_IN, FILL_THIS_IN)] <- FILL_THIS_IN(FILL_THIS_IN, FILL_THIS_IN)\n",
    "```"
   ]
  },
  {
   "cell_type": "code",
   "execution_count": null,
   "metadata": {
    "deletable": false,
    "name": "question-1-11",
    "nbgrader": {
     "cell_type": "code",
     "checksum": "6b2c923645246d769d554c2194b47ac1",
     "grade": false,
     "grade_id": "cell-2e19fbd54689c8f5",
     "locked": false,
     "schema_version": 3,
     "solution": true,
     "task": false
    }
   },
   "outputs": [],
   "source": [
    "# your code here\n",
    "fail() # No Answer - remove if you provide an answer"
   ]
  },
  {
   "cell_type": "code",
   "execution_count": null,
   "metadata": {
    "deletable": false,
    "editable": false,
    "lines_to_next_cell": 2,
    "name": "test-1-11",
    "nbgrader": {
     "cell_type": "code",
     "checksum": "3a7d5569cec055c979b929e641418f84",
     "grade": true,
     "grade_id": "cell-6db10ac9c23cc3bd",
     "locked": true,
     "points": 1,
     "schema_version": 3,
     "solution": false,
     "task": false
    }
   },
   "outputs": [],
   "source": [
    "library(digest)\n",
    "stopifnot(\"type of length(times) is not integer\"= setequal(digest(paste(toString(class(length(times))), \"2612\")), \"27fe761fab960e0dcbb3697a376ad338\"))\n",
    "stopifnot(\"length of length(times) is not correct\"= setequal(digest(paste(toString(length(length(times))), \"2612\")), \"52ae7d02572f2606a15342afcd9b8c92\"))\n",
    "stopifnot(\"values of length(times) are not correct\"= setequal(digest(paste(toString(sort(length(times))), \"2612\")), \"fff2e0e1b5232fc3d6ce9e1691eddfdb\"))\n",
    "\n",
    "stopifnot(\"type of (times[2] != times_old[2]) is not logical\"= setequal(digest(paste(toString(class((times[2] != times_old[2]))), \"2613\")), \"644c183446e41ab92957dadca03aca85\"))\n",
    "stopifnot(\"logical value of (times[2] != times_old[2]) is not correct\"= setequal(digest(paste(toString((times[2] != times_old[2])), \"2613\")), \"a101ed13fed87ca03f4df3ba49148799\"))\n",
    "\n",
    "stopifnot(\"type of (times[3] != times_old[3]) is not logical\"= setequal(digest(paste(toString(class((times[3] != times_old[3]))), \"2614\")), \"d14a48349439b15d5084de2d1c6ec59d\"))\n",
    "stopifnot(\"logical value of (times[3] != times_old[3]) is not correct\"= setequal(digest(paste(toString((times[3] != times_old[3])), \"2614\")), \"91a861df5af5ba88960005688b7c5bc3\"))\n",
    "\n",
    "print('Success!')"
   ]
  },
  {
   "cell_type": "markdown",
   "metadata": {},
   "source": [
    "Great! Now let's change our times vector back to the original!"
   ]
  },
  {
   "cell_type": "code",
   "execution_count": null,
   "metadata": {},
   "outputs": [],
   "source": [
    "#change back to original times vector for autograding\n",
    "times <- times_old"
   ]
  },
  {
   "cell_type": "markdown",
   "metadata": {
    "deletable": false,
    "editable": false,
    "nbgrader": {
     "cell_type": "markdown",
     "checksum": "85cced767d7b74d84ba260cc4eb60be5",
     "grade": false,
     "grade_id": "cell-ff59e02a034653c1",
     "locked": true,
     "schema_version": 3,
     "solution": false,
     "task": false
    }
   },
   "source": [
    "### 1.6 Functions\n",
    "\n",
    "Functions are one of the fundamental building blocks of the R language. They are small pieces of reusable code that can be treated like any other R object. Functions are easily recognizable because they are usually characterized by their name followed by parenthesis. For example, if there was a function that could make bread, it would look like this: bread().\n",
    "\n",
    "**QUESTION 1.14**\n",
    "\n",
    "{points: 1}\n",
    "\n",
    "\n",
    "You have actually already used 3 functions in this worksheet before being formally introduced to what a function is. Can you recall if any of these functions have been used in this worksheet already?\n",
    "\n",
    "A) `c()`\n",
    "\n",
    "B) `mean()`\n",
    "\n",
    "C) `typeof()`\n",
    "\n",
    "D) `length()`\n",
    "\n",
    "**Hint:** More than 1 answer may be correct -- make a vector of all of the correct ones!\n",
    "\n",
    "```\n",
    "answer1.11 <- c(\"FILL_THIS_IN\", \"FILL_THIS_IN\", ...)\n",
    "```"
   ]
  },
  {
   "cell_type": "code",
   "execution_count": null,
   "metadata": {
    "deletable": false,
    "name": "answer-1-11",
    "nbgrader": {
     "cell_type": "code",
     "checksum": "21d54d255481cf08e8a2b8382be8af61",
     "grade": false,
     "grade_id": "cell-9fcc0142a463e216",
     "locked": false,
     "schema_version": 3,
     "solution": true,
     "task": false
    }
   },
   "outputs": [],
   "source": [
    "# answer1.11 <- youranswer\n",
    "# your code here\n",
    "fail() # No Answer - remove if you provide an answer"
   ]
  },
  {
   "cell_type": "code",
   "execution_count": null,
   "metadata": {
    "deletable": false,
    "editable": false,
    "nbgrader": {
     "cell_type": "code",
     "checksum": "11ec8c962d4b87d04708f9b6a5651927",
     "grade": true,
     "grade_id": "cell-e6eed02e488ad154",
     "locked": true,
     "points": 1,
     "schema_version": 3,
     "solution": false,
     "task": false
    }
   },
   "outputs": [],
   "source": [
    "library(digest)\n",
    "stopifnot(\"type of sort(answer1.11) is not character\"= setequal(digest(paste(toString(class(sort(answer1.11))), \"15af9\")), \"4e35a7fb602d0ea37389d20e408af688\"))\n",
    "stopifnot(\"length of sort(answer1.11) is not correct\"= setequal(digest(paste(toString(length(sort(answer1.11))), \"15af9\")), \"19516ab45fc9c162230ad99690c57b60\"))\n",
    "stopifnot(\"value of sort(answer1.11) is not correct\"= setequal(digest(paste(toString(tolower(sort(answer1.11))), \"15af9\")), \"059398af4d7002cf9d1aa86cfcc7ea97\"))\n",
    "stopifnot(\"letters in string value of sort(answer1.11) are correct but case is not correct\"= setequal(digest(paste(toString(sort(answer1.11)), \"15af9\")), \"f7f150b13baef5a42413ab0daeaefcae\"))\n",
    "\n",
    "print('Success!')"
   ]
  },
  {
   "cell_type": "markdown",
   "metadata": {
    "deletable": false,
    "editable": false,
    "nbgrader": {
     "cell_type": "markdown",
     "checksum": "5ade8cba890f50251dfdec170b674ecc",
     "grade": false,
     "grade_id": "cell-ee34dc4a43ba3467",
     "locked": true,
     "schema_version": 3,
     "solution": false,
     "task": false
    }
   },
   "source": [
    "There are tens of thousands of functions that one can use in R, which seems a bit large for this worksheet. Let's explore a few basic functions just for fun. Type `Sys.Date()` below to see what happens!"
   ]
  },
  {
   "cell_type": "code",
   "execution_count": null,
   "metadata": {
    "name": "activity-1-9"
   },
   "outputs": [],
   "source": [
    "# your code here"
   ]
  },
  {
   "cell_type": "markdown",
   "metadata": {
    "deletable": false,
    "editable": false,
    "nbgrader": {
     "cell_type": "markdown",
     "checksum": "b6a1b55ed992a4c35f4a5c52ef685188",
     "grade": false,
     "grade_id": "cell-97dbbd0ff341ffff",
     "locked": true,
     "schema_version": 3,
     "solution": false,
     "task": false
    }
   },
   "source": [
    "Remember that there are different types of vectors, besides numeric and logical? Well, the output of `Sys.Date()` is actually an example of another vector type, known in R language as a \"string\". A \"string\" is just a character (any value written within a pair of single or double quotes in R) variable that contains one or more characters! \n",
    "\n",
    "The value that `Sys.Date()` computes is based on your computer's environment, but functions in R can also manipulate input data in order to compute a return value. At the start of this worksheet, you were introduced to the simplest form of R - as a calculator. Actually, R functions allow us to compute certain things that could be done manually as a calculator, but much faster.\n",
    "\n",
    "Recall the `times` vector earlier. What's the average travel time? Instead of computing this manually, we can use a function called `mean`. "
   ]
  },
  {
   "cell_type": "code",
   "execution_count": null,
   "metadata": {
    "deletable": false,
    "editable": false,
    "name": "example-1-12",
    "nbgrader": {
     "cell_type": "code",
     "checksum": "0442e7984394184b2789f332c1bf7ed0",
     "grade": false,
     "grade_id": "cell-49301c151f447382",
     "locked": true,
     "schema_version": 3,
     "solution": false,
     "task": false
    }
   },
   "outputs": [],
   "source": [
    "mean(times)"
   ]
  },
  {
   "cell_type": "markdown",
   "metadata": {
    "deletable": false,
    "editable": false,
    "nbgrader": {
     "cell_type": "markdown",
     "checksum": "1c03e02cd4e51e313821ea58d4a2431e",
     "grade": false,
     "grade_id": "cell-9d07b29f76367267",
     "locked": true,
     "schema_version": 3,
     "solution": false,
     "task": false
    }
   },
   "source": [
    "Notice the syntax of using a function: starting by the left with the *function name*, and the *input* goes inside brackets. We *input* times, and we got an *output*. Did this function change the *input*? Check:"
   ]
  },
  {
   "cell_type": "code",
   "execution_count": null,
   "metadata": {},
   "outputs": [],
   "source": []
  },
  {
   "cell_type": "markdown",
   "metadata": {
    "deletable": false,
    "editable": false,
    "nbgrader": {
     "cell_type": "markdown",
     "checksum": "a6d24f0b9640e86f5d1e67b8faad82d6",
     "grade": false,
     "grade_id": "cell-ade6a4aff0947e9f",
     "locked": true,
     "schema_version": 3,
     "solution": false,
     "task": false
    }
   },
   "source": [
    "**QUESTION 1.15**\n",
    "\n",
    "{points: 1}\n",
    "\n",
    "\n",
    "Aside from bizarre functions, this is always the case. But functions don't always return a single value. Try the `range()` function (assigning the result to `answer1.15a`), and the `sqrt()` function (assigning the result to `answer1.15b`), using the `times` vector as an argument for both.\n",
    "\n",
    "```\n",
    "answer1.15a <- FILL_THIS_IN(FILL_THIS_IN)\n",
    "answer1.15b <- FILL_THIS_IN(FILL_THIS_IN)\n",
    "```"
   ]
  },
  {
   "cell_type": "code",
   "execution_count": null,
   "metadata": {
    "deletable": false,
    "lines_to_next_cell": 2,
    "name": "question-1-12",
    "nbgrader": {
     "cell_type": "code",
     "checksum": "90e6adefd247fde0ca1b08c18a125b9e",
     "grade": false,
     "grade_id": "cell-b47579d0c904248a",
     "locked": false,
     "schema_version": 3,
     "solution": true,
     "task": false
    }
   },
   "outputs": [],
   "source": [
    "# your code here\n",
    "fail() # No Answer - remove if you provide an answer"
   ]
  },
  {
   "cell_type": "code",
   "execution_count": null,
   "metadata": {
    "deletable": false,
    "editable": false,
    "name": "answer-1-12",
    "nbgrader": {
     "cell_type": "code",
     "checksum": "22a1a6c5b308c7a73772d3c57dd82a85",
     "grade": true,
     "grade_id": "cell-4c85f43d6bfd6e06",
     "locked": true,
     "points": 1,
     "schema_version": 3,
     "solution": false,
     "task": false
    }
   },
   "outputs": [],
   "source": [
    "library(digest)\n",
    "stopifnot(\"type of answer1.15a is not numeric\"= setequal(digest(paste(toString(class(answer1.15a)), \"4f773\")), \"e787fa61d7383b8972fdbe98990945fd\"))\n",
    "stopifnot(\"value of answer1.15a is not correct (rounded to 2 decimal places)\"= setequal(digest(paste(toString(round(answer1.15a, 2)), \"4f773\")), \"38821b86c39bdad4b6f1a3496a92e626\"))\n",
    "stopifnot(\"length of answer1.15a is not correct\"= setequal(digest(paste(toString(length(answer1.15a)), \"4f773\")), \"6d26d981dcaf87c5bab77b87ebab719e\"))\n",
    "stopifnot(\"values of answer1.15a are not correct\"= setequal(digest(paste(toString(sort(round(answer1.15a, 2))), \"4f773\")), \"38821b86c39bdad4b6f1a3496a92e626\"))\n",
    "\n",
    "stopifnot(\"type of answer1.15b is not numeric\"= setequal(digest(paste(toString(class(answer1.15b)), \"4f774\")), \"fa3cdfdca72f9dcdda19da090216fba1\"))\n",
    "stopifnot(\"value of answer1.15b is not correct (rounded to 2 decimal places)\"= setequal(digest(paste(toString(round(answer1.15b, 2)), \"4f774\")), \"64e97708108935269d1892485220b180\"))\n",
    "stopifnot(\"length of answer1.15b is not correct\"= setequal(digest(paste(toString(length(answer1.15b)), \"4f774\")), \"b4bba74991df15bdffddef237b578794\"))\n",
    "stopifnot(\"values of answer1.15b are not correct\"= setequal(digest(paste(toString(sort(round(answer1.15b, 2))), \"4f774\")), \"61f4ceeb0021959e7fb4a20676ac1749\"))\n",
    "\n",
    "print('Success!')"
   ]
  },
  {
   "cell_type": "markdown",
   "metadata": {
    "deletable": false,
    "editable": false,
    "nbgrader": {
     "cell_type": "markdown",
     "checksum": "6864f15799584717414427bb233dc1de",
     "grade": false,
     "grade_id": "cell-d1c9d42b92296b01",
     "locked": true,
     "schema_version": 3,
     "solution": false,
     "task": false
    }
   },
   "source": [
    "Functions can also take more than one argument as input, separated by commas. You can find out what these arguments are by accessing the function’s documentation, which you can do by executing `?\"function name\"`. Try accessing the documentation of the `mean()` function by executing `?mean`."
   ]
  },
  {
   "cell_type": "code",
   "execution_count": null,
   "metadata": {
    "name": "activity-1-10"
   },
   "outputs": [],
   "source": [
    "# your code here"
   ]
  },
  {
   "cell_type": "markdown",
   "metadata": {
    "deletable": false,
    "editable": false,
    "nbgrader": {
     "cell_type": "markdown",
     "checksum": "cef034f6bb2fa9c40e75863d6384e917",
     "grade": false,
     "grade_id": "cell-e94a18f9bb776edb",
     "locked": true,
     "schema_version": 3,
     "solution": false,
     "task": false
    }
   },
   "source": [
    "There are four arguments. All the arguments have names, except for the `...` argument (more on `...` -- ellipses -- later). This is always the case.\n",
    "\n",
    "Under \"Usage\", some of the arguments are of the form `name = value`. These are default values, in case you don't specify these arguments. This is a sure sign that these arguments are optional.\n",
    "\n",
    "`x` is \"on its own\". This typically means that it has no default, and often (but not always) means that the argument is required. We can specify an argument in one of two ways:\n",
    "\n",
    "+ specifying argument `name = value` in the function parentheses; or\n",
    "+ matching the ordering of the input with the ordering of the arguments.\n",
    "\n",
    "For readability, this is not recommended beyond the first or sometimes second argument! \n",
    "\n",
    "**QUESTION 1.16**\n",
    "\n",
    "{points: 1}\n",
    "\n",
    "\n",
    "Try executing `mean()` again with `times` as an argument, but this time, set the `na.rm` to `TRUE`. Store the result in a variable named `answer1.16`.\n",
    "\n",
    "```\n",
    "answer1.16 <- FILL_THIS_IN(FILL_THIS_IN, FILL_THIS_IN = FILL_THIS_IN)\n",
    "```"
   ]
  },
  {
   "cell_type": "code",
   "execution_count": null,
   "metadata": {
    "deletable": false,
    "name": "question-1-13",
    "nbgrader": {
     "cell_type": "code",
     "checksum": "8e0692ec93f9c4ecdc3473a912e447a4",
     "grade": false,
     "grade_id": "cell-de91816819964158",
     "locked": false,
     "schema_version": 3,
     "solution": true,
     "task": false
    }
   },
   "outputs": [],
   "source": [
    "# your code here\n",
    "fail() # No Answer - remove if you provide an answer"
   ]
  },
  {
   "cell_type": "code",
   "execution_count": null,
   "metadata": {
    "deletable": false,
    "editable": false,
    "name": "answer-1-13",
    "nbgrader": {
     "cell_type": "code",
     "checksum": "1c50af86cba43360e471684b0c286334",
     "grade": true,
     "grade_id": "cell-ae3bba6dd9e77802",
     "locked": true,
     "points": 1,
     "schema_version": 3,
     "solution": false,
     "task": false
    }
   },
   "outputs": [],
   "source": [
    "library(digest)\n",
    "stopifnot(\"type of answer1.16 is not numeric\"= setequal(digest(paste(toString(class(answer1.16)), \"ed29e\")), \"aa32fe696dfa51d9fd704456134f53af\"))\n",
    "stopifnot(\"value of answer1.16 is not correct (rounded to 2 decimal places)\"= setequal(digest(paste(toString(round(answer1.16, 2)), \"ed29e\")), \"eb2e9628362d01d163d34d2b70860607\"))\n",
    "stopifnot(\"length of answer1.16 is not correct\"= setequal(digest(paste(toString(length(answer1.16)), \"ed29e\")), \"16e210b6cae8ff9ce18de560167efe19\"))\n",
    "stopifnot(\"values of answer1.16 are not correct\"= setequal(digest(paste(toString(sort(round(answer1.16, 2))), \"ed29e\")), \"eb2e9628362d01d163d34d2b70860607\"))\n",
    "\n",
    "print('Success!')"
   ]
  },
  {
   "cell_type": "markdown",
   "metadata": {
    "deletable": false,
    "editable": false,
    "nbgrader": {
     "cell_type": "markdown",
     "checksum": "43fb811d82e04807a535e1456fbd9a8d",
     "grade": false,
     "grade_id": "cell-3a3b2d082a935f90",
     "locked": true,
     "schema_version": 3,
     "solution": false,
     "task": false
    }
   },
   "source": [
    "**QUESTION 1.17**\n",
    "\n",
    "{points: 1}\n",
    "\n",
    "\n",
    "The mean is the same, because there are no `NA` values in the vector `times`. Put your subsetting knowledge into practice by replacing the third entry of the `times` vector by a missing value (`NA`).\n",
    "\n",
    "**Hint**: Your solution starts with `times`.\n",
    "\n",
    "```\n",
    "FILL_THIS_IN[FILL_THIS_IN] <- NA\n",
    "```"
   ]
  },
  {
   "cell_type": "code",
   "execution_count": null,
   "metadata": {
    "deletable": false,
    "name": "question-1-14",
    "nbgrader": {
     "cell_type": "code",
     "checksum": "ab818b0b35094a7dda81344436f5e836",
     "grade": false,
     "grade_id": "cell-342edc09f72e7a8c",
     "locked": false,
     "schema_version": 3,
     "solution": true,
     "task": false
    }
   },
   "outputs": [],
   "source": [
    "# your code here\n",
    "fail() # No Answer - remove if you provide an answer"
   ]
  },
  {
   "cell_type": "code",
   "execution_count": null,
   "metadata": {
    "deletable": false,
    "editable": false,
    "name": "answer-1-14",
    "nbgrader": {
     "cell_type": "code",
     "checksum": "a12fe59958a41504bd52384b58bd0404",
     "grade": true,
     "grade_id": "cell-6cde747b897599a4",
     "locked": true,
     "points": 1,
     "schema_version": 3,
     "solution": false,
     "task": false
    }
   },
   "outputs": [],
   "source": [
    "library(digest)\n",
    "stopifnot(\"type of (times[3] == NA) is not logical\"= setequal(digest(paste(toString(class((times[3] == NA))), \"865d3\")), \"1b75c3692546e1319102dae7ee75cf69\"))\n",
    "stopifnot(\"logical value of (times[3] == NA) is not correct\"= setequal(digest(paste(toString((times[3] == NA)), \"865d3\")), \"3f6d9687b2d77ebd4eaa9f263c3151d4\"))\n",
    "\n",
    "stopifnot(\"type of (times[1] == 18) is not logical\"= setequal(digest(paste(toString(class((times[1] == 18))), \"865d4\")), \"b0a5192ed69f1e516c88e35acbdd48a8\"))\n",
    "stopifnot(\"logical value of (times[1] == 18) is not correct\"= setequal(digest(paste(toString((times[1] == 18)), \"865d4\")), \"b540df54712206495768bc2a9d4cfe54\"))\n",
    "\n",
    "stopifnot(\"type of (times[8] == 17) is not logical\"= setequal(digest(paste(toString(class((times[8] == 17))), \"865d5\")), \"cf13ca8d6e75d65ff99519920d0e63da\"))\n",
    "stopifnot(\"logical value of (times[8] == 17) is not correct\"= setequal(digest(paste(toString((times[8] == 17)), \"865d5\")), \"69ae208ddc9b377d4c1287e167b3a7a6\"))\n",
    "\n",
    "print('Success!')"
   ]
  },
  {
   "cell_type": "markdown",
   "metadata": {
    "deletable": false,
    "editable": false,
    "nbgrader": {
     "cell_type": "markdown",
     "checksum": "26f66bc93cd81fad9aec5bdd0550f1a2",
     "grade": false,
     "grade_id": "cell-d43cdab8bc89c4b3",
     "locked": true,
     "schema_version": 3,
     "solution": false,
     "task": false
    }
   },
   "source": [
    "**QUESTION 1.18**\n",
    "\n",
    "{points: 1}\n",
    "\n",
    "\n",
    "Now, try executing `mean()` specifying `na.rm` as `TRUE` again (with `times` as an input). Store the output in a variable named `answer1.18`.\n",
    "\n",
    "```\n",
    "answer1.18 <- FILL_THIS_IN(FILL_THIS_IN, FILL_THIS_IN = FILL_THIS_IN)\n",
    "```"
   ]
  },
  {
   "cell_type": "code",
   "execution_count": null,
   "metadata": {
    "deletable": false,
    "name": "question-1-15",
    "nbgrader": {
     "cell_type": "code",
     "checksum": "a6a02b0af133a4df5e1a5b363f1509a6",
     "grade": false,
     "grade_id": "cell-796c60eb34c7f758",
     "locked": false,
     "schema_version": 3,
     "solution": true,
     "task": false
    }
   },
   "outputs": [],
   "source": [
    "# your code here\n",
    "fail() # No Answer - remove if you provide an answer"
   ]
  },
  {
   "cell_type": "code",
   "execution_count": null,
   "metadata": {
    "deletable": false,
    "editable": false,
    "name": "answer-1-15",
    "nbgrader": {
     "cell_type": "code",
     "checksum": "69a2ebbc563c28645efe030094c3ceb0",
     "grade": true,
     "grade_id": "cell-ad7598274cbe0104",
     "locked": true,
     "points": 1,
     "schema_version": 3,
     "solution": false,
     "task": false
    }
   },
   "outputs": [],
   "source": [
    "library(digest)\n",
    "stopifnot(\"type of answer1.18 is not numeric\"= setequal(digest(paste(toString(class(answer1.18)), \"34bd2\")), \"fd6a2cbd92d56e7c92193811c9f0ee58\"))\n",
    "stopifnot(\"value of answer1.18 is not correct (rounded to 2 decimal places)\"= setequal(digest(paste(toString(round(answer1.18, 2)), \"34bd2\")), \"bd2832675f7c6edb529c5389505f0028\"))\n",
    "stopifnot(\"length of answer1.18 is not correct\"= setequal(digest(paste(toString(length(answer1.18)), \"34bd2\")), \"0366e2ff18b21b3372f30cfc43f71228\"))\n",
    "stopifnot(\"values of answer1.18 are not correct\"= setequal(digest(paste(toString(sort(round(answer1.18, 2))), \"34bd2\")), \"bd2832675f7c6edb529c5389505f0028\"))\n",
    "\n",
    "print('Success!')"
   ]
  },
  {
   "cell_type": "markdown",
   "metadata": {
    "deletable": false,
    "editable": false,
    "nbgrader": {
     "cell_type": "markdown",
     "checksum": "ce99c978634a6d64b73ca4d81dcf2442",
     "grade": false,
     "grade_id": "cell-12b47a9a552cf299",
     "locked": true,
     "schema_version": 3,
     "solution": false,
     "task": false
    }
   },
   "source": [
    "Notice how the output changes. What if you try setting `na.rm` as `FALSE` instead?"
   ]
  },
  {
   "cell_type": "code",
   "execution_count": null,
   "metadata": {
    "name": "activity-1-11"
   },
   "outputs": [],
   "source": [
    "# your code here"
   ]
  }
 ],
 "metadata": {
  "jupytext": {
   "cell_metadata_filter": "warning,name,message,-all",
   "notebook_metadata_filter": "-all",
   "text_representation": {
    "extension": ".Rmd",
    "format_name": "rmarkdown"
   }
  },
  "kernelspec": {
   "display_name": "R",
   "language": "R",
   "name": "ir"
  },
  "language_info": {
   "codemirror_mode": "r",
   "file_extension": ".r",
   "mimetype": "text/x-r-source",
   "name": "R",
   "pygments_lexer": "r",
   "version": "4.5.1"
  }
 },
 "nbformat": 4,
 "nbformat_minor": 4
}
